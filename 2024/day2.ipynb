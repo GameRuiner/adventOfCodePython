{
 "cells": [
  {
   "cell_type": "markdown",
   "metadata": {},
   "source": [
    "## Part 1"
   ]
  },
  {
   "cell_type": "code",
   "execution_count": 25,
   "metadata": {},
   "outputs": [
    {
     "data": {
      "text/plain": [
       "510"
      ]
     },
     "execution_count": 25,
     "metadata": {},
     "output_type": "execute_result"
    }
   ],
   "source": [
    "f = open(\"inputs/input2.txt\", \"r\")\n",
    "\n",
    "res = 0\n",
    "\n",
    "for line in f:\n",
    "    numbers = [int(n) for n in line.split()]\n",
    "    numbers_sorted_asc = sorted(numbers)\n",
    "    numbers_sorted_desc = sorted(numbers, reverse=True)\n",
    "    if numbers == numbers_sorted_asc or numbers == numbers_sorted_desc:\n",
    "        is_ok = True\n",
    "        for x, y in zip(numbers, numbers[1:]):\n",
    "            diff = abs(x - y)\n",
    "            if diff < 1 or diff > 3:\n",
    "                is_ok = False\n",
    "        if is_ok:\n",
    "            res += 1\n",
    "\n",
    "f.close()\n",
    "res"
   ]
  },
  {
   "cell_type": "markdown",
   "metadata": {},
   "source": [
    "## Part 2\n"
   ]
  },
  {
   "cell_type": "code",
   "execution_count": 50,
   "metadata": {},
   "outputs": [
    {
     "data": {
      "text/plain": [
       "553"
      ]
     },
     "execution_count": 50,
     "metadata": {},
     "output_type": "execute_result"
    }
   ],
   "source": [
    "f = open(\"inputs/input2.txt\", \"r\")\n",
    "\n",
    "res = 0\n",
    "\n",
    "def is_report_ok(report):\n",
    "    is_asc = True\n",
    "    is_desc = True\n",
    "    is_diff = True\n",
    "    for x, y in zip(report, report[1:]):\n",
    "        if x > y:\n",
    "            is_asc = False\n",
    "        if y > x:\n",
    "            is_desc = False\n",
    "        diff = abs(x - y)\n",
    "        if diff < 1 or diff > 3:\n",
    "            is_diff = False\n",
    "    if is_diff and (is_asc or is_desc):\n",
    "        return True\n",
    "    return False\n",
    "\n",
    "for line in f:\n",
    "    numbers = [int(n) for n in line.split()]\n",
    "    is_ok = False\n",
    "    for i in range(len(numbers)):\n",
    "        cut_numbers = numbers[0:i] + numbers[i+1:]\n",
    "        if is_report_ok(cut_numbers):\n",
    "            is_ok = True\n",
    "    if is_ok:\n",
    "        res += 1\n",
    "\n",
    "f.close()\n",
    "res"
   ]
  }
 ],
 "metadata": {
  "kernelspec": {
   "display_name": "Python 3",
   "language": "python",
   "name": "python3"
  },
  "language_info": {
   "codemirror_mode": {
    "name": "ipython",
    "version": 3
   },
   "file_extension": ".py",
   "mimetype": "text/x-python",
   "name": "python",
   "nbconvert_exporter": "python",
   "pygments_lexer": "ipython3",
   "version": "3.9.6"
  }
 },
 "nbformat": 4,
 "nbformat_minor": 2
}

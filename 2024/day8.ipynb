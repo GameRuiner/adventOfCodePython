{
 "cells": [
  {
   "cell_type": "markdown",
   "metadata": {},
   "source": [
    "## Part 1"
   ]
  },
  {
   "cell_type": "code",
   "execution_count": 29,
   "metadata": {},
   "outputs": [
    {
     "data": {
      "text/plain": [
       "320"
      ]
     },
     "execution_count": 29,
     "metadata": {},
     "output_type": "execute_result"
    }
   ],
   "source": [
    "f = open(\"inputs/input8.txt\", \"r\")\n",
    "\n",
    "city = f.read().splitlines()\n",
    "size = len(city)\n",
    "antennas = {}\n",
    "for y, line in enumerate(city):\n",
    "    for x, ch in enumerate(line):\n",
    "        if ch == '.':\n",
    "            continue\n",
    "        coords = (x, y)\n",
    "        if ch in antennas:\n",
    "            antennas[ch].append(coords)\n",
    "        else:\n",
    "            antennas[ch] = [coords]\n",
    "\n",
    "def check_coord(coord, size):\n",
    "    check_point = lambda x: x >= 0 and x < size\n",
    "    return check_point(coord[0]) and check_point(coord[1])\n",
    "\n",
    "antidotes = set()\n",
    "for antenna in antennas:\n",
    "    antennas_coords = antennas[antenna]\n",
    "    for i in range(len(antennas_coords)):\n",
    "        for j in range(i + 1, len(antennas_coords)):\n",
    "            a1 = antennas_coords[i]\n",
    "            a2 = antennas_coords[j]\n",
    "            diff = (a1[0] - a2[0], a1[1] - a2[1])\n",
    "            p_ant1 = (a1[0] + diff[0], a1[1] + diff[1])\n",
    "            p_ant2 = (a2[0] - diff[0], a2[1] - diff[1])\n",
    "            if check_coord(p_ant1, size):\n",
    "                antidotes.add(p_ant1)\n",
    "            if check_coord(p_ant2, size):\n",
    "                antidotes.add(p_ant2)\n",
    "\n",
    "\n",
    "f.close()\n",
    "len(antidotes)"
   ]
  },
  {
   "cell_type": "markdown",
   "metadata": {},
   "source": [
    "## Part 2"
   ]
  },
  {
   "cell_type": "code",
   "execution_count": 50,
   "metadata": {},
   "outputs": [
    {
     "data": {
      "text/plain": [
       "1157"
      ]
     },
     "execution_count": 50,
     "metadata": {},
     "output_type": "execute_result"
    }
   ],
   "source": [
    "f = open(\"inputs/input8.txt\", \"r\")\n",
    "\n",
    "city = f.read().splitlines()\n",
    "size = len(city)\n",
    "antennas = {}\n",
    "for y, line in enumerate(city):\n",
    "    for x, ch in enumerate(line):\n",
    "        if ch == '.':\n",
    "            continue\n",
    "        coords = (x, y)\n",
    "        if ch in antennas:\n",
    "            antennas[ch].append(coords)\n",
    "        else:\n",
    "            antennas[ch] = [coords]\n",
    "\n",
    "def check_coord(coord, size):\n",
    "    check_point = lambda x: x >= 0 and x < size\n",
    "    return check_point(coord[0]) and check_point(coord[1])\n",
    "\n",
    "antidotes = set()\n",
    "for antenna in antennas:\n",
    "    antennas_coords = antennas[antenna]\n",
    "    for i in range(len(antennas_coords)):\n",
    "        for j in range(i + 1, len(antennas_coords)):\n",
    "            a1 = antennas_coords[i]\n",
    "            a2 = antennas_coords[j]\n",
    "            diff = (a1[0] - a2[0], a1[1] - a2[1])\n",
    "            while True:\n",
    "                p_ant1 = (a1[0] + diff[0], a1[1] + diff[1])\n",
    "                if check_coord(p_ant1, size):\n",
    "                    antidotes.add(p_ant1)\n",
    "                    a1 = p_ant1\n",
    "                else:\n",
    "                    break\n",
    "            while True:\n",
    "                p_ant2 = (a2[0] - diff[0], a2[1] - diff[1])\n",
    "                if check_coord(p_ant2, size):\n",
    "                    antidotes.add(p_ant2)\n",
    "                    a2 = p_ant2\n",
    "                else:\n",
    "                    break\n",
    "\n",
    "\n",
    "f.close()\n",
    "for s in antennas.values():\n",
    "    antidotes = antidotes.union(s)\n",
    "len(antidotes)"
   ]
  }
 ],
 "metadata": {
  "kernelspec": {
   "display_name": "Python 3",
   "language": "python",
   "name": "python3"
  },
  "language_info": {
   "codemirror_mode": {
    "name": "ipython",
    "version": 3
   },
   "file_extension": ".py",
   "mimetype": "text/x-python",
   "name": "python",
   "nbconvert_exporter": "python",
   "pygments_lexer": "ipython3",
   "version": "3.9.6"
  }
 },
 "nbformat": 4,
 "nbformat_minor": 2
}

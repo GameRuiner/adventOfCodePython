{
 "cells": [
  {
   "cell_type": "markdown",
   "metadata": {},
   "source": [
    "## Part 1"
   ]
  },
  {
   "cell_type": "code",
   "execution_count": 19,
   "metadata": {},
   "outputs": [
    {
     "data": {
      "text/plain": [
       "1153997401072"
      ]
     },
     "execution_count": 19,
     "metadata": {},
     "output_type": "execute_result"
    }
   ],
   "source": [
    "f = open(\"inputs/input7.txt\", \"r\")\n",
    "\n",
    "def test_equation(test, numbers):\n",
    "    if len(numbers) == 2:\n",
    "        left, right = numbers\n",
    "        if test == left * right:\n",
    "            return test\n",
    "        if test == left + right:\n",
    "            return test\n",
    "        return 0\n",
    "    left = numbers[0]\n",
    "    right = numbers[1]\n",
    "    sum_option = [left + right] + numbers[2:]\n",
    "    mul_option = [left * right] + numbers[2:]\n",
    "    sum_res = test_equation(test, sum_option)\n",
    "    mul_res = test_equation(test, mul_option)\n",
    "    return sum_res | mul_res\n",
    "\n",
    "res = 0\n",
    "for line in f.read().splitlines():\n",
    "    test, rest = line.split(':')\n",
    "    numbers = [int(ch) for ch in rest.split()]\n",
    "    test_res = test_equation(int(test), numbers)\n",
    "    res += test_res\n",
    "f.close()\n",
    "res"
   ]
  },
  {
   "cell_type": "markdown",
   "metadata": {},
   "source": [
    "## Part 2"
   ]
  },
  {
   "cell_type": "code",
   "execution_count": 17,
   "metadata": {},
   "outputs": [
    {
     "data": {
      "text/plain": [
       "97902809384118"
      ]
     },
     "execution_count": 17,
     "metadata": {},
     "output_type": "execute_result"
    }
   ],
   "source": [
    "f = open(\"inputs/input7.txt\", \"r\")\n",
    "\n",
    "concat = lambda x, y: int(str(x) + str(y))\n",
    "\n",
    "def test_equation(test, numbers):\n",
    "    if len(numbers) == 2:\n",
    "        left, right = numbers\n",
    "        if test == left * right:\n",
    "            return test\n",
    "        if test == left + right:\n",
    "            return test\n",
    "        if test == concat(left, right):\n",
    "            return test\n",
    "        return 0\n",
    "    left = numbers[0]\n",
    "    right = numbers[1]\n",
    "    sum_option = [left + right] + numbers[2:]\n",
    "    mul_option = [left * right] + numbers[2:]\n",
    "    concat_option = [concat(left, right)] + numbers[2:]\n",
    "    sum_res = test_equation(test, sum_option)\n",
    "    mul_res = test_equation(test, mul_option)\n",
    "    concat_res = test_equation(test, concat_option)\n",
    "    return sum_res | mul_res | concat_res\n",
    "\n",
    "res = 0\n",
    "for line in f.read().splitlines():\n",
    "    test, rest = line.split(':')\n",
    "    numbers = [int(ch) for ch in rest.split()]\n",
    "    test_res = test_equation(int(test), numbers)\n",
    "    res += test_res\n",
    "f.close()\n",
    "res"
   ]
  }
 ],
 "metadata": {
  "kernelspec": {
   "display_name": "Python 3",
   "language": "python",
   "name": "python3"
  },
  "language_info": {
   "codemirror_mode": {
    "name": "ipython",
    "version": 3
   },
   "file_extension": ".py",
   "mimetype": "text/x-python",
   "name": "python",
   "nbconvert_exporter": "python",
   "pygments_lexer": "ipython3",
   "version": "3.9.6"
  }
 },
 "nbformat": 4,
 "nbformat_minor": 2
}

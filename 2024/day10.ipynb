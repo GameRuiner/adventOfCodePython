{
 "cells": [
  {
   "cell_type": "markdown",
   "metadata": {},
   "source": [
    "## Part 1"
   ]
  },
  {
   "cell_type": "code",
   "execution_count": null,
   "metadata": {},
   "outputs": [],
   "source": [
    "f = open(\"inputs/input10.txt\", \"r\")\n",
    "\n",
    "top_map = []\n",
    "\n",
    "for line in f.read().splitlines():\n",
    "    top_map.append([int(ch) for ch in line])\n",
    "f.close()\n",
    "\n",
    "size = len(top_map)\n",
    "\n",
    "check_in_border = lambda c: c >=0 and c < size \n",
    "\n",
    "def get_pos_9(x, y, top_map):\n",
    "    dirs = [(0, 1), (1, 0), (0, -1), (-1, 0)]\n",
    "    pos_9 = set()\n",
    "    for d_x, d_y in dirs:\n",
    "        new_x = x + d_x\n",
    "        new_y = y + d_y\n",
    "        is_in_border = check_in_border(new_x) and check_in_border(new_y)\n",
    "        if is_in_border:\n",
    "            new_value = top_map[new_y][new_x]\n",
    "            value = top_map[y][x]\n",
    "            if value + 1 == new_value:\n",
    "                if new_value == 9:\n",
    "                    pos_9.add((new_x, new_y))\n",
    "                else:\n",
    "                    pos_9 = pos_9.union(get_pos_9(new_x, new_y, top_map))\n",
    "    return pos_9\n",
    "\n",
    "\n",
    "res = 0\n",
    "for y, line in enumerate(top_map):\n",
    "    for x, n in enumerate(line):\n",
    "        if n == 0:\n",
    "            pos_9 = get_pos_9(x, y, top_map)\n",
    "            res += len(pos_9)\n",
    "\n",
    "res"
   ]
  },
  {
   "cell_type": "markdown",
   "metadata": {},
   "source": [
    "## Part 2"
   ]
  },
  {
   "cell_type": "code",
   "execution_count": 22,
   "metadata": {},
   "outputs": [
    {
     "data": {
      "text/plain": [
       "1110"
      ]
     },
     "execution_count": 22,
     "metadata": {},
     "output_type": "execute_result"
    }
   ],
   "source": [
    "f = open(\"inputs/input10.txt\", \"r\")\n",
    "\n",
    "top_map = []\n",
    "\n",
    "for line in f.read().splitlines():\n",
    "    top_map.append([int(ch) for ch in line])\n",
    "f.close()\n",
    "\n",
    "size = len(top_map)\n",
    "\n",
    "check_in_border = lambda c: c >=0 and c < size \n",
    "\n",
    "def get_score(x, y, top_map):\n",
    "    dirs = [(0, 1), (1, 0), (0, -1), (-1, 0)]\n",
    "    res = 0\n",
    "    for d_x, d_y in dirs:\n",
    "        new_x = x + d_x\n",
    "        new_y = y + d_y\n",
    "        is_in_border = check_in_border(new_x) and check_in_border(new_y)\n",
    "        if is_in_border:\n",
    "            new_value = top_map[new_y][new_x]\n",
    "            value = top_map[y][x]\n",
    "            if value + 1 == new_value:\n",
    "                if new_value == 9:\n",
    "                    res += 1\n",
    "                else:\n",
    "                    res += get_score(new_x, new_y, top_map)\n",
    "    return res\n",
    "\n",
    "\n",
    "\n",
    "res = 0\n",
    "for y, line in enumerate(top_map):\n",
    "    for x, n in enumerate(line):\n",
    "        if n == 0:\n",
    "            res += get_score(x, y, top_map)\n",
    "\n",
    "res"
   ]
  }
 ],
 "metadata": {
  "kernelspec": {
   "display_name": "Python 3",
   "language": "python",
   "name": "python3"
  },
  "language_info": {
   "codemirror_mode": {
    "name": "ipython",
    "version": 3
   },
   "file_extension": ".py",
   "mimetype": "text/x-python",
   "name": "python",
   "nbconvert_exporter": "python",
   "pygments_lexer": "ipython3",
   "version": "3.9.6"
  }
 },
 "nbformat": 4,
 "nbformat_minor": 2
}

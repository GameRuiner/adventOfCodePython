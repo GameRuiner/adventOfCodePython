{
 "cells": [
  {
   "cell_type": "markdown",
   "metadata": {},
   "source": [
    "## Part 1"
   ]
  },
  {
   "cell_type": "code",
   "execution_count": null,
   "metadata": {},
   "outputs": [
    {
     "data": {
      "text/plain": [
       "4982"
      ]
     },
     "execution_count": 32,
     "metadata": {},
     "output_type": "execute_result"
    }
   ],
   "source": [
    "f = open(\"inputs/input6.txt\", \"r\")\n",
    "\n",
    "\n",
    "size = None\n",
    "next_dir = {\n",
    "    (0, -1): (1, 0),\n",
    "    (1, 0): (0, 1),\n",
    "    (0, 1): (-1, 0),\n",
    "    (-1, 0): (0, -1)\n",
    "}\n",
    "\n",
    "def move(lab, guard):\n",
    "    while True:\n",
    "        (x, y), (dir_x, dir_y) = guard\n",
    "        new_x = x + dir_x\n",
    "        new_y = y + dir_y\n",
    "        check_border = lambda coord: coord >= 0 and coord < size\n",
    "        is_in_border = check_border(new_x) and check_border(new_y)\n",
    "        if not is_in_border:\n",
    "            return\n",
    "        is_obstacle = lab[new_y][new_x] == '#'\n",
    "        if not is_obstacle:\n",
    "            lab[new_y][new_x] = 'X'\n",
    "            guard = ((new_x, new_y), (dir_x, dir_y))\n",
    "        else:\n",
    "            new_dir = next_dir[(dir_x, dir_y)]\n",
    "            guard = ((x, y), new_dir)\n",
    "\n",
    "\n",
    "start_guard = None\n",
    "lab = []\n",
    "for y, line in enumerate(f.read().splitlines()):\n",
    "    x = line.find('^')\n",
    "    if x != -1:\n",
    "        line = line.replace('^', 'X')\n",
    "        start_guard = ((x, y), (0, -1))\n",
    "    row = list(line)\n",
    "    lab.append(row)\n",
    "size = len(lab)\n",
    "move(lab, start_guard)\n",
    "\n",
    "f.close()\n",
    "\n",
    "res = 0\n",
    "for line in lab:\n",
    "    res += line.count('X')\n",
    "res"
   ]
  },
  {
   "cell_type": "markdown",
   "metadata": {},
   "source": [
    "## Part 2\n"
   ]
  },
  {
   "cell_type": "code",
   "execution_count": 49,
   "metadata": {},
   "outputs": [
    {
     "data": {
      "text/plain": [
       "1663"
      ]
     },
     "execution_count": 49,
     "metadata": {},
     "output_type": "execute_result"
    }
   ],
   "source": [
    "f = open(\"inputs/input6.txt\", \"r\")\n",
    "\n",
    "\n",
    "size = None\n",
    "next_dir = {\n",
    "    (0, -1): (1, 0),\n",
    "    (1, 0): (0, 1),\n",
    "    (0, 1): (-1, 0),\n",
    "    (-1, 0): (0, -1)\n",
    "}\n",
    "\n",
    "def move(lab, guard):\n",
    "    places = set()\n",
    "    while True:\n",
    "        if guard in places:\n",
    "            return True\n",
    "        places.add(guard)\n",
    "        (x, y), (dir_x, dir_y) = guard\n",
    "        new_x = x + dir_x\n",
    "        new_y = y + dir_y\n",
    "        check_border = lambda coord: coord >= 0 and coord < size\n",
    "        is_in_border = check_border(new_x) and check_border(new_y)\n",
    "        if not is_in_border:\n",
    "            return False\n",
    "        is_obstacle = lab[new_y][new_x] == '#'\n",
    "        if not is_obstacle:\n",
    "            lab[new_y][new_x] = 'X'\n",
    "            guard = ((new_x, new_y), (dir_x, dir_y))\n",
    "        else:\n",
    "            new_dir = next_dir[(dir_x, dir_y)]\n",
    "            guard = ((x, y), new_dir)\n",
    "\n",
    "\n",
    "start_guard = None\n",
    "lab = []\n",
    "for y, line in enumerate(f.read().splitlines()):\n",
    "    x = line.find('^')\n",
    "    if x != -1:\n",
    "        start_guard = ((x, y), (0, -1))\n",
    "    row = list(line)\n",
    "    lab.append(row)\n",
    "size = len(lab)\n",
    "move(lab, start_guard)\n",
    "\n",
    "f.close()\n",
    "\n",
    "lab[start_guard[0][1]][start_guard[0][0]] = '.'\n",
    "place_guard_was = []\n",
    "for y, line in enumerate(lab):\n",
    "    for x, place in enumerate(line):\n",
    "        if place == 'X':\n",
    "            place_guard_was.append((x, y))\n",
    "\n",
    "count = 0\n",
    "for x, y in place_guard_was:\n",
    "    lab[y][x] = '#'\n",
    "    count += move(lab, start_guard)\n",
    "    lab[y][x] = 'X'\n",
    "\n",
    "count"
   ]
  }
 ],
 "metadata": {
  "kernelspec": {
   "display_name": "Python 3",
   "language": "python",
   "name": "python3"
  },
  "language_info": {
   "codemirror_mode": {
    "name": "ipython",
    "version": 3
   },
   "file_extension": ".py",
   "mimetype": "text/x-python",
   "name": "python",
   "nbconvert_exporter": "python",
   "pygments_lexer": "ipython3",
   "version": "3.9.6"
  }
 },
 "nbformat": 4,
 "nbformat_minor": 2
}

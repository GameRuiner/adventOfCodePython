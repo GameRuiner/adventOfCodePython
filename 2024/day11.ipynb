{
 "cells": [
  {
   "cell_type": "markdown",
   "metadata": {},
   "source": [
    "## Part 1"
   ]
  },
  {
   "cell_type": "code",
   "execution_count": null,
   "metadata": {},
   "outputs": [
    {
     "data": {
      "text/plain": [
       "211306"
      ]
     },
     "execution_count": 21,
     "metadata": {},
     "output_type": "execute_result"
    }
   ],
   "source": [
    "f = open(\"inputs/input11.txt\", \"r\")\n",
    "\n",
    "stones = [int(stone) for stone in f.read().split()]\n",
    "\n",
    "def do_change(stone):\n",
    "    if stone == 0:\n",
    "        return [1]\n",
    "    stone_str = str(stone)\n",
    "    digits = len(stone_str)\n",
    "    if digits % 2 == 0:\n",
    "        half = digits // 2\n",
    "        left = int(stone_str[:half])\n",
    "        right = int(stone_str[half:])\n",
    "        return [left, right]\n",
    "    return [stone * 2024]\n",
    "\n",
    "def count_stones(stones, current, max_blink):\n",
    "    if current == max_blink:\n",
    "        return len(stones)\n",
    "    res = 0\n",
    "    for stone in stones:\n",
    "        res += count_stones(do_change(stone), current + 1, max_blink)\n",
    "    return res\n",
    "\n",
    "count_stones(stones, 0, 25)"
   ]
  },
  {
   "cell_type": "markdown",
   "metadata": {},
   "source": [
    "## Part 2"
   ]
  },
  {
   "cell_type": "markdown",
   "metadata": {},
   "source": [
    "Same but optimized"
   ]
  },
  {
   "cell_type": "code",
   "execution_count": 60,
   "metadata": {},
   "outputs": [
    {
     "data": {
      "text/plain": [
       "250783680217283"
      ]
     },
     "execution_count": 60,
     "metadata": {},
     "output_type": "execute_result"
    }
   ],
   "source": [
    "from functools import lru_cache\n",
    "\n",
    "f = open(\"inputs/input11.txt\", \"r\")\n",
    "\n",
    "stones = tuple(int(stone) for stone in f.read().split())\n",
    "\n",
    "@lru_cache(None)\n",
    "def count_stones(stone, blink_left):\n",
    "    if blink_left == 0:\n",
    "        return 1\n",
    "    blink_left -= 1\n",
    "    if stone == 0:\n",
    "        return count_stones(1, blink_left)\n",
    "    stone_str = str(stone)\n",
    "    digits = len(stone_str)\n",
    "    if digits % 2 == 0:\n",
    "        half = digits // 2\n",
    "        left = count_stones(int(stone_str[:half]), blink_left)\n",
    "        right = count_stones(int(stone_str[half:]), blink_left)\n",
    "        return left + right\n",
    "    return count_stones(stone * 2024, blink_left)\n",
    "\n",
    "sum([count_stones(stone, 75) for stone in stones])\n"
   ]
  }
 ],
 "metadata": {
  "kernelspec": {
   "display_name": "Python 3",
   "language": "python",
   "name": "python3"
  },
  "language_info": {
   "codemirror_mode": {
    "name": "ipython",
    "version": 3
   },
   "file_extension": ".py",
   "mimetype": "text/x-python",
   "name": "python",
   "nbconvert_exporter": "python",
   "pygments_lexer": "ipython3",
   "version": "3.9.6"
  }
 },
 "nbformat": 4,
 "nbformat_minor": 2
}

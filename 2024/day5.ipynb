{
 "cells": [
  {
   "cell_type": "code",
   "execution_count": 23,
   "metadata": {},
   "outputs": [],
   "source": [
    "def fill_order(order, line):\n",
    "    before, after = line.split('|')\n",
    "    if before not in order:\n",
    "        order[before] = set([after])\n",
    "    else:\n",
    "        order[before].add(after)"
   ]
  },
  {
   "cell_type": "markdown",
   "metadata": {},
   "source": [
    "## Part 1"
   ]
  },
  {
   "cell_type": "code",
   "execution_count": null,
   "metadata": {},
   "outputs": [
    {
     "data": {
      "text/plain": [
       "7074"
      ]
     },
     "execution_count": 22,
     "metadata": {},
     "output_type": "execute_result"
    }
   ],
   "source": [
    "f = open(\"inputs/input5.txt\", \"r\")\n",
    "\n",
    "def check_update(line, order):\n",
    "    pages = line.split(',')\n",
    "    before_pages = []\n",
    "    for page in pages:\n",
    "        if page in order:\n",
    "            order_before = order[page]\n",
    "            for before_page in before_pages:\n",
    "                if before_page in order_before:\n",
    "                    return 0\n",
    "        before_pages.append(page)\n",
    "    middle_page = pages[(len(pages) - 1) // 2]\n",
    "    return int(middle_page)\n",
    "\n",
    "is_reading_updates = False\n",
    "order = {}\n",
    "\n",
    "res = 0\n",
    "for line in f.read().splitlines():\n",
    "    if not line:\n",
    "        is_reading_updates = True\n",
    "        continue\n",
    "    if is_reading_updates:\n",
    "        res += check_update(line, order)\n",
    "    else:\n",
    "        fill_order(order, line)\n",
    "\n",
    "\n",
    "f.close()\n",
    "res"
   ]
  },
  {
   "cell_type": "markdown",
   "metadata": {},
   "source": [
    "## Part 2\n"
   ]
  },
  {
   "cell_type": "code",
   "execution_count": 36,
   "metadata": {},
   "outputs": [
    {
     "data": {
      "text/plain": [
       "4828"
      ]
     },
     "execution_count": 36,
     "metadata": {},
     "output_type": "execute_result"
    }
   ],
   "source": [
    "f = open(\"inputs/input5.txt\", \"r\")\n",
    "\n",
    "def correct_update(pages, i):\n",
    "    corrected_pages = pages[0:i-1] + [pages[i]] + [pages[i-1]] + pages[i+1:]\n",
    "    return check_update(corrected_pages, True)\n",
    "\n",
    "def check_update(pages, is_corrected = False):\n",
    "    before_pages = []\n",
    "    for i, page in enumerate(pages):\n",
    "        if page in order:\n",
    "            order_before = order[page]\n",
    "            for before_page in before_pages:\n",
    "                if before_page in order_before:\n",
    "                    return correct_update(pages, i)\n",
    "        before_pages.append(page)\n",
    "    if is_corrected:\n",
    "        middle_page = pages[(len(pages) - 1) // 2]\n",
    "        return int(middle_page)\n",
    "    return 0\n",
    "\n",
    "is_reading_updates = False\n",
    "order = {}\n",
    "\n",
    "res = 0\n",
    "for line in f.read().splitlines():\n",
    "    if not line:\n",
    "        is_reading_updates = True\n",
    "        continue\n",
    "    if is_reading_updates:\n",
    "        pages = line.split(',')\n",
    "        res += check_update(pages)\n",
    "    else:\n",
    "        fill_order(order, line)\n",
    "\n",
    "\n",
    "f.close()\n",
    "res"
   ]
  }
 ],
 "metadata": {
  "kernelspec": {
   "display_name": "Python 3",
   "language": "python",
   "name": "python3"
  },
  "language_info": {
   "codemirror_mode": {
    "name": "ipython",
    "version": 3
   },
   "file_extension": ".py",
   "mimetype": "text/x-python",
   "name": "python",
   "nbconvert_exporter": "python",
   "pygments_lexer": "ipython3",
   "version": "3.9.6"
  }
 },
 "nbformat": 4,
 "nbformat_minor": 2
}

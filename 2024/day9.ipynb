{
 "cells": [
  {
   "cell_type": "markdown",
   "metadata": {},
   "source": [
    "## Part 1"
   ]
  },
  {
   "cell_type": "code",
   "execution_count": null,
   "metadata": {},
   "outputs": [
    {
     "data": {
      "text/plain": [
       "6435922584968"
      ]
     },
     "execution_count": 11,
     "metadata": {},
     "output_type": "execute_result"
    }
   ],
   "source": [
    "f = open(\"inputs/input9.txt\", \"r\")\n",
    "\n",
    "disk_map = f.read().strip()\n",
    "f.close()\n",
    "\n",
    "\n",
    "disk_map_sparse = []\n",
    "is_file = True\n",
    "file_id = 0\n",
    "space_ch = '.'\n",
    "\n",
    "for ch in disk_map:\n",
    "    times = int(ch)\n",
    "    if is_file:\n",
    "        space = [file_id] * times\n",
    "        file_id += 1\n",
    "    else:\n",
    "        space = [space_ch] * times\n",
    "    disk_map_sparse = disk_map_sparse + space\n",
    "    is_file = not is_file\n",
    "\n",
    "length = len(disk_map_sparse)\n",
    "last = length - 1\n",
    "for i in range(length):\n",
    "    if disk_map_sparse[i] == space_ch:\n",
    "        for j in range(last, i, -1):\n",
    "            if disk_map_sparse[j] != space_ch:\n",
    "                disk_map_sparse[i] = disk_map_sparse[j]\n",
    "                disk_map_sparse[j] = space_ch\n",
    "                last = j\n",
    "                break\n",
    "    if i == last:\n",
    "        break\n",
    "\n",
    "res = 0 \n",
    "for i, n in enumerate(disk_map_sparse):\n",
    "    if n == space_ch:\n",
    "        break\n",
    "    res += i * n\n",
    "\n",
    "res"
   ]
  },
  {
   "cell_type": "markdown",
   "metadata": {},
   "source": [
    "## Part 2"
   ]
  },
  {
   "cell_type": "code",
   "execution_count": 52,
   "metadata": {},
   "outputs": [
    {
     "data": {
      "text/plain": [
       "6469636832766"
      ]
     },
     "execution_count": 52,
     "metadata": {},
     "output_type": "execute_result"
    }
   ],
   "source": [
    "f = open(\"inputs/input9.txt\", \"r\")\n",
    "\n",
    "disk_map = f.read().strip()\n",
    "f.close()\n",
    "\n",
    "disk_size = len(disk_map)\n",
    "is_file = True\n",
    "files = []\n",
    "spaces = []\n",
    "current = 0\n",
    "file_id = 0\n",
    "\n",
    "for ch in disk_map:\n",
    "    size = int(ch)\n",
    "    if is_file:\n",
    "        files.append((current, size, file_id))\n",
    "        file_id += 1\n",
    "    else:\n",
    "        spaces.append((current, size))\n",
    "    current += size\n",
    "    is_file = not is_file\n",
    "\n",
    "files.reverse()\n",
    "moved_files = []\n",
    "\n",
    "for file_pos, file_size, file_id in files:\n",
    "    for i, (space_pos, space_size) in enumerate(spaces):\n",
    "        if file_pos <= space_pos:\n",
    "            break\n",
    "        if file_size <= space_size:\n",
    "            file_pos = space_pos\n",
    "            moved_files.append((file_pos, file_size, file_id))\n",
    "            spaces[i] = ((space_pos + file_size, space_size - file_size))\n",
    "            break\n",
    "\n",
    "moved_files_ids = set()\n",
    "res = 0\n",
    "\n",
    "count_sum = lambda file_pos, file_size, file_id: sum([i * file_id for i in range(file_pos, file_pos + file_size)])\n",
    "\n",
    "for file_pos, file_size, file_id in moved_files:\n",
    "    moved_files_ids.add(file_id)\n",
    "    res += count_sum(file_pos, file_size, file_id)\n",
    "\n",
    "for file_pos, file_size, file_id in files:\n",
    "    if file_id not in moved_files_ids:\n",
    "        res += count_sum(file_pos, file_size, file_id)\n",
    "\n",
    "res"
   ]
  }
 ],
 "metadata": {
  "kernelspec": {
   "display_name": "Python 3",
   "language": "python",
   "name": "python3"
  },
  "language_info": {
   "codemirror_mode": {
    "name": "ipython",
    "version": 3
   },
   "file_extension": ".py",
   "mimetype": "text/x-python",
   "name": "python",
   "nbconvert_exporter": "python",
   "pygments_lexer": "ipython3",
   "version": "3.9.6"
  }
 },
 "nbformat": 4,
 "nbformat_minor": 2
}

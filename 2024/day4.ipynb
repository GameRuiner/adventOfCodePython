{
 "cells": [
  {
   "cell_type": "markdown",
   "metadata": {},
   "source": [
    "## Part 1"
   ]
  },
  {
   "cell_type": "code",
   "execution_count": 37,
   "metadata": {},
   "outputs": [
    {
     "data": {
      "text/plain": [
       "2358"
      ]
     },
     "execution_count": 37,
     "metadata": {},
     "output_type": "execute_result"
    }
   ],
   "source": [
    "def is_char(input, x, y, char):\n",
    "    max_coord = len(input)\n",
    "    x_is_ok = x >= 0 and x < max_coord\n",
    "    y_is_ok = y >= 0 and y < max_coord\n",
    "    if x_is_ok and y_is_ok and input[y][x] == char:\n",
    "        return True\n",
    "\n",
    "f = open(\"inputs/input4.txt\", \"r\")\n",
    "input = [list(line.strip())for line in f]\n",
    "f.close()\n",
    "\n",
    "coords = []\n",
    "for y, line in enumerate(input):\n",
    "    for x, char in enumerate(line):\n",
    "        if char == 'X':\n",
    "            coords.append((x, y))\n",
    "\n",
    "def find_word(input, coords, level, word, dir):\n",
    "    new_coords = []\n",
    "    for x, y in coords:\n",
    "        new_x = x + dir[0]\n",
    "        new_y = y + dir[1]\n",
    "        if is_char(input, new_x, new_y, word[level]):\n",
    "            new_coords.append((new_x, new_y))\n",
    "\n",
    "    res = 0\n",
    "    if level == len(word) - 1:\n",
    "        res += len(new_coords)\n",
    "    else:\n",
    "        res += find_word(input, new_coords, level+1, word, dir)\n",
    "    return res\n",
    "\n",
    "directions = ((0, 1), (1, 1), (1, 0), (1, -1), (0, -1), (-1, -1), (-1, 0), (-1, 1))\n",
    "res = 0\n",
    "for dir in directions:\n",
    "    res += find_word(input, coords, 1, 'XMAS', dir)\n",
    "res\n"
   ]
  },
  {
   "cell_type": "markdown",
   "metadata": {},
   "source": [
    "## Part 2\n"
   ]
  },
  {
   "cell_type": "code",
   "execution_count": 55,
   "metadata": {},
   "outputs": [
    {
     "data": {
      "text/plain": [
       "1737"
      ]
     },
     "execution_count": 55,
     "metadata": {},
     "output_type": "execute_result"
    }
   ],
   "source": [
    "def is_char(input, x, y, char):\n",
    "    max_coord = len(input)\n",
    "    x_is_ok = x >= 0 and x < max_coord\n",
    "    y_is_ok = y >= 0 and y < max_coord\n",
    "    if x_is_ok and y_is_ok and input[y][x] == char:\n",
    "        return True\n",
    "\n",
    "f = open(\"inputs/input4.txt\", \"r\")\n",
    "input = [list(line.strip())for line in f]\n",
    "f.close()\n",
    "\n",
    "coords = []\n",
    "for y, line in enumerate(input):\n",
    "    for x, char in enumerate(line):\n",
    "        if char == 'M':\n",
    "            coords.append((x, y))\n",
    "\n",
    "res = 0\n",
    "a_set = set()\n",
    "def find_word(input, coords, dir):\n",
    "    a_coords = []\n",
    "    counter = 0\n",
    "    for x, y in coords:\n",
    "        new_x = x + dir[0]\n",
    "        new_y = y + dir[1]\n",
    "        if is_char(input, new_x, new_y, 'A'):\n",
    "            a_coords.append((new_x, new_y))\n",
    "\n",
    "    \n",
    "    for x, y in a_coords:\n",
    "        new_x = x + dir[0]\n",
    "        new_y = y + dir[1]\n",
    "        if is_char(input, new_x, new_y, 'S'):\n",
    "            if (x, y) in a_set:\n",
    "                counter+=1\n",
    "            else:\n",
    "                a_set.add((x,y))\n",
    "    return counter\n",
    "directions = ((1, 1), (1, -1), (-1, -1), (-1, 1))\n",
    "for dir in directions:\n",
    "    res += find_word(input, coords, dir)\n",
    "res"
   ]
  }
 ],
 "metadata": {
  "kernelspec": {
   "display_name": "Python 3",
   "language": "python",
   "name": "python3"
  },
  "language_info": {
   "codemirror_mode": {
    "name": "ipython",
    "version": 3
   },
   "file_extension": ".py",
   "mimetype": "text/x-python",
   "name": "python",
   "nbconvert_exporter": "python",
   "pygments_lexer": "ipython3",
   "version": "3.9.6"
  }
 },
 "nbformat": 4,
 "nbformat_minor": 2
}

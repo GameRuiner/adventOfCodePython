{
 "cells": [
  {
   "cell_type": "markdown",
   "metadata": {},
   "source": [
    "## Part 1"
   ]
  },
  {
   "cell_type": "code",
   "execution_count": 10,
   "metadata": {},
   "outputs": [
    {
     "data": {
      "text/plain": [
       "179834255"
      ]
     },
     "execution_count": 10,
     "metadata": {},
     "output_type": "execute_result"
    }
   ],
   "source": [
    "import re\n",
    "\n",
    "f = open(\"inputs/input3.txt\", \"r\")\n",
    "\n",
    "memory = f.read()\n",
    "res = 0\n",
    "for match in re.findall(\"mul\\(\\d{1,3},\\d{1,3}\\)\", memory):\n",
    "    a, b = [int(x) for x in match[4:-1].split(',')]\n",
    "    res += a*b\n",
    "f.close()\n",
    "res"
   ]
  },
  {
   "cell_type": "markdown",
   "metadata": {},
   "source": [
    "## Part 2\n"
   ]
  },
  {
   "cell_type": "code",
   "execution_count": 17,
   "metadata": {},
   "outputs": [
    {
     "data": {
      "text/plain": [
       "80570939"
      ]
     },
     "execution_count": 17,
     "metadata": {},
     "output_type": "execute_result"
    }
   ],
   "source": [
    "f = open(\"inputs/input3.txt\", \"r\")\n",
    "memory = f.read()\n",
    "res = 0\n",
    "is_do = True\n",
    "for mul, dont, do in re.findall(\"(mul\\(\\d{1,3},\\d{1,3}\\))|(don't\\(\\))|(do\\(\\))\", memory):\n",
    "    if mul and is_do:\n",
    "        a, b = [int(x) for x in mul[4:-1].split(',')]\n",
    "        res += a*b\n",
    "    if dont:\n",
    "        is_do = False\n",
    "    if do:\n",
    "        is_do = True\n",
    "\n",
    "f.close()\n",
    "res"
   ]
  }
 ],
 "metadata": {
  "kernelspec": {
   "display_name": "Python 3",
   "language": "python",
   "name": "python3"
  },
  "language_info": {
   "codemirror_mode": {
    "name": "ipython",
    "version": 3
   },
   "file_extension": ".py",
   "mimetype": "text/x-python",
   "name": "python",
   "nbconvert_exporter": "python",
   "pygments_lexer": "ipython3",
   "version": "3.9.6"
  }
 },
 "nbformat": 4,
 "nbformat_minor": 2
}
